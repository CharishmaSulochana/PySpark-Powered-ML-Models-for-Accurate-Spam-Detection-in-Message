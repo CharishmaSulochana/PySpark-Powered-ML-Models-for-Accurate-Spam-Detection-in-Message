{
  "nbformat": 4,
  "nbformat_minor": 0,
  "metadata": {
    "colab": {
      "provenance": []
    },
    "kernelspec": {
      "name": "python3",
      "display_name": "Python 3"
    },
    "language_info": {
      "name": "python"
    }
  },
  "cells": [
    {
      "cell_type": "code",
      "source": [
        "import pandas as pd\n",
        "from imblearn.over_sampling import SMOTE\n",
        "from sklearn.preprocessing import LabelEncoder\n",
        "from sklearn.linear_model import LogisticRegression\n",
        "from sklearn.preprocessing import StandardScaler\n",
        "from sklearn.metrics import confusion_matrix, classification_report\n",
        "from sklearn.model_selection import train_test_split"
      ],
      "metadata": {
        "id": "Imb0n3hQ8R57"
      },
      "execution_count": 2,
      "outputs": []
    },
    {
      "cell_type": "code",
      "source": [
        "data = pd.read_csv('spam_data.csv', encoding='latin-1')\n",
        "data.columns=['class','text']\n",
        "data = data.dropna()"
      ],
      "metadata": {
        "id": "5-e-yb_XBLul"
      },
      "execution_count": 7,
      "outputs": []
    },
    {
      "cell_type": "code",
      "source": [
        "from sklearn.preprocessing import LabelEncoder\n",
        "# Create an instance of LabelEncoder\n",
        "label_encoder = LabelEncoder()\n",
        "# Labelize the column\n",
        "data['label'] = label_encoder.fit_transform(data['class'])"
      ],
      "metadata": {
        "id": "oYQd30gJEtNu"
      },
      "execution_count": 8,
      "outputs": []
    },
    {
      "cell_type": "code",
      "source": [
        "data['class'].value_counts()"
      ],
      "metadata": {
        "colab": {
          "base_uri": "https://localhost:8080/"
        },
        "id": "uHkPO92DEO5C",
        "outputId": "6b368d4a-a770-481e-fc3e-b5e22f911d3e"
      },
      "execution_count": 9,
      "outputs": [
        {
          "output_type": "execute_result",
          "data": {
            "text/plain": [
              "ham     4824\n",
              "spam     747\n",
              "Name: class, dtype: int64"
            ]
          },
          "metadata": {},
          "execution_count": 9
        }
      ]
    },
    {
      "cell_type": "code",
      "source": [
        "import matplotlib.pyplot as plt\n",
        "column_name = 'label'\n",
        "value_counts1 = data[column_name].value_counts()\n",
        "plt.bar(value_counts1.index, value_counts1.values)\n",
        "plt.xlabel(column_name)\n",
        "plt.ylabel('Frequency')\n",
        "plt.title('Ham & Spam')\n",
        "plt.xticks(rotation='vertical')\n",
        "plt.show()"
      ],
      "metadata": {
        "colab": {
          "base_uri": "https://localhost:8080/",
          "height": 500
        },
        "id": "eLTlsq6HoxvL",
        "outputId": "f303211d-9e70-4fe5-df6f-03d1d1d47126"
      },
      "execution_count": 10,
      "outputs": [
        {
          "output_type": "display_data",
          "data": {
            "text/plain": [
              "<Figure size 640x480 with 1 Axes>"
            ],
            "image/png": "[encoded data removed]"
          },
          "metadata": {}
        }
      ]
    },
    {
      "cell_type": "code",
      "source": [
        "target_column = 'label'  # Replace with the name of the target column\n",
        "X = data.drop(target_column, axis=1)  # Features (all columns except the target column)\n",
        "y = data[target_column]  # Target variable (the column you want to balance)"
      ],
      "metadata": {
        "id": "mJVUSUFPBNeU"
      },
      "execution_count": 11,
      "outputs": []
    },
    {
      "cell_type": "code",
      "source": [
        "from sklearn.feature_extraction.text import TfidfVectorizer"
      ],
      "metadata": {
        "id": "T6cpOCSoBuac"
      },
      "execution_count": 12,
      "outputs": []
    },
    {
      "cell_type": "code",
      "source": [
        "tfidf = TfidfVectorizer()\n",
        "X_tfidf = tfidf.fit_transform(X['text'])  # Replace 'text_column' with the actual name of the text column"
      ],
      "metadata": {
        "id": "_u4mHyq6BWkX"
      },
      "execution_count": 13,
      "outputs": []
    },
    {
      "cell_type": "markdown",
      "source": [
        "Training and testing"
      ],
      "metadata": {
        "id": "vtwc8HmFpEsS"
      }
    },
    {
      "cell_type": "code",
      "source": [
        "X_train, X_test, y_train, y_test = train_test_split(X_tfidf, y, test_size = 0.3, random_state = 0)"
      ],
      "metadata": {
        "id": "pymlNJPLPDo6"
      },
      "execution_count": 14,
      "outputs": []
    },
    {
      "cell_type": "markdown",
      "source": [
        "Applying Logistic Regression"
      ],
      "metadata": {
        "id": "zmqg1adWpI6L"
      }
    },
    {
      "cell_type": "code",
      "source": [
        "lr = LogisticRegression()\n",
        "lr.fit(X_train, y_train.ravel())\n",
        "predictions = lr.predict(X_test)\n",
        "print(classification_report(y_test, predictions))"
      ],
      "metadata": {
        "colab": {
          "base_uri": "https://localhost:8080/"
        },
        "id": "YC3GwK3YPRTO",
        "outputId": "86473c50-59e3-4c5a-cd80-016cb9dea42e"
      },
      "execution_count": 15,
      "outputs": [
        {
          "output_type": "stream",
          "name": "stdout",
          "text": [
            "              precision    recall  f1-score   support\n",
            "\n",
            "           0       0.96      1.00      0.98      1448\n",
            "           1       0.99      0.71      0.82       224\n",
            "\n",
            "    accuracy                           0.96      1672\n",
            "   macro avg       0.97      0.85      0.90      1672\n",
            "weighted avg       0.96      0.96      0.96      1672\n",
            "\n"
          ]
        }
      ]
    },
    {
      "cell_type": "markdown",
      "source": [
        "***  AFTER SMOTH APPLIED***"
      ],
      "metadata": {
        "id": "lthxMBoSolLX"
      }
    },
    {
      "cell_type": "code",
      "source": [
        "oversampler = SMOTE(random_state=42)"
      ],
      "metadata": {
        "id": "M5Y2LPDKBX4l"
      },
      "execution_count": 16,
      "outputs": []
    },
    {
      "cell_type": "code",
      "source": [
        "X_oversampled, y_oversampled = oversampler.fit_resample(X_tfidf, y)"
      ],
      "metadata": {
        "id": "4-Wp014yBZXh"
      },
      "execution_count": 17,
      "outputs": []
    },
    {
      "cell_type": "code",
      "source": [
        "X_oversampled_df = pd.DataFrame(X_oversampled.toarray(), columns=tfidf.get_feature_names_out())"
      ],
      "metadata": {
        "id": "PTftzCa7Ba-v"
      },
      "execution_count": 18,
      "outputs": []
    },
    {
      "cell_type": "code",
      "source": [
        "lr1 = LogisticRegression()\n",
        "lr1.fit(X_oversampled, y_oversampled.ravel())\n",
        "predictions = lr1.predict(X_test)\n",
        "# print classification report\n",
        "print(classification_report(y_test, predictions))"
      ],
      "metadata": {
        "colab": {
          "base_uri": "https://localhost:8080/"
        },
        "id": "rBS8-XhaOhVZ",
        "outputId": "0803c11e-4f4a-4190-dc02-74867d67f97f"
      },
      "execution_count": 19,
      "outputs": [
        {
          "output_type": "stream",
          "name": "stdout",
          "text": [
            "              precision    recall  f1-score   support\n",
            "\n",
            "           0       1.00      1.00      1.00      1448\n",
            "           1       0.98      0.97      0.98       224\n",
            "\n",
            "    accuracy                           0.99      1672\n",
            "   macro avg       0.99      0.98      0.99      1672\n",
            "weighted avg       0.99      0.99      0.99      1672\n",
            "\n"
          ]
        }
      ]
    },
    {
      "cell_type": "code",
      "source": [
        "balanced_data = pd.concat([X_oversampled_df, pd.DataFrame(y_oversampled, columns=[target_column])], axis=1)\n",
        "balanced_data.to_csv('balanced_dataset.csv', index=False)"
      ],
      "metadata": {
        "id": "bK9ouR0uB50f"
      },
      "execution_count": 20,
      "outputs": []
    },
    {
      "cell_type": "code",
      "source": [
        "# Load the balanced dataset\n",
        "balanced_data = pd.read_csv('balanced_dataset.csv')"
      ],
      "metadata": {
        "id": "nZgkic-lCMhm"
      },
      "execution_count": 21,
      "outputs": []
    },
    {
      "cell_type": "code",
      "source": [
        "balanced_data['label'].value_counts()"
      ],
      "metadata": {
        "colab": {
          "base_uri": "https://localhost:8080/"
        },
        "id": "qOHmnCF7D1-5",
        "outputId": "a22544f4-dfd2-4739-9ff9-fc3f6b8f2041"
      },
      "execution_count": 22,
      "outputs": [
        {
          "output_type": "execute_result",
          "data": {
            "text/plain": [
              "0    4824\n",
              "1    4824\n",
              "Name: label, dtype: int64"
            ]
          },
          "metadata": {},
          "execution_count": 22
        }
      ]
    },
    {
      "cell_type": "code",
      "source": [
        "import matplotlib.pyplot as plt\n",
        "column_name = 'label'\n",
        "value_counts = balanced_data[column_name].value_counts()\n",
        "plt.bar(value_counts.index, value_counts.values)\n",
        "plt.xlabel(column_name)\n",
        "plt.ylabel('Frequency')\n",
        "plt.title('Bar Graph of ' + column_name)\n",
        "plt.xticks(rotation='vertical')\n",
        "plt.show()"
      ],
      "metadata": {
        "colab": {
          "base_uri": "https://localhost:8080/",
          "height": 500
        },
        "id": "75urOapwEXPp",
        "outputId": "e5b326e9-3837-4db0-8423-594321dd1c4c"
      },
      "execution_count": 23,
      "outputs": [
        {
          "output_type": "display_data",
          "data": {
            "text/plain": [
              "<Figure size 640x480 with 1 Axes>"
            ],
            "image/png": "[encoded data removed]"
          },
          "metadata": {}
        }
      ]
    },
    {
      "cell_type": "code",
      "source": [],
      "metadata": {
        "id": "e0aW5FxmG8t8"
      },
      "execution_count": 23,
      "outputs": []
    }
  ]
}